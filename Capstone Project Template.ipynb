{
 "cells": [
  {
   "cell_type": "markdown",
   "metadata": {
    "editable": true
   },
   "source": [
    "# Project Title\n",
    "### Data Engineering Capstone Project\n",
    "\n",
    "#### Project Summary\n",
    "--describe your project at a high level--\n",
    "\n",
    "The project follows the follow steps:\n",
    "* Step 1: Scope the Project and Gather Data\n",
    "* Step 2: Explore and Assess the Data\n",
    "* Step 3: Define the Data Model\n",
    "* Step 4: Run ETL to Model the Data\n",
    "* Step 5: Complete Project Write Up"
   ]
  },
  {
   "cell_type": "code",
   "execution_count": 88,
   "metadata": {
    "editable": true
   },
   "outputs": [],
   "source": [
    "# Do all imports and installs here\n",
    "import pandas as pd\n",
    "from pyspark.sql import SparkSession\n",
    "from datetime import timedelta, date\n",
    "from pyspark.sql.functions import udf, col\n",
    "from pyspark.sql.types import IntegerType, StringType, StructType, StructField, DateType"
   ]
  },
  {
   "cell_type": "markdown",
   "metadata": {
    "editable": true
   },
   "source": [
    "### Step 1: Scope the Project and Gather Data\n",
    "\n",
    "#### Scope \n",
    "Explain what you plan to do in the project in more detail. What data do you use? What is your end solution look like? What tools did you use? etc>\n",
    "\n",
    "#### Describe and Gather Data \n",
    "Describe the data sets you're using. Where did it come from? What type of information is included? "
   ]
  },
  {
   "cell_type": "code",
   "execution_count": 3,
   "metadata": {
    "editable": true
   },
   "outputs": [],
   "source": [
    "spark = SparkSession.builder.\\\n",
    "config(\"spark.jars.packages\",\"saurfang:spark-sas7bdat:2.0.0-s_2.11\")\\\n",
    ".enableHiveSupport().getOrCreate()"
   ]
  },
  {
   "cell_type": "code",
   "execution_count": 25,
   "metadata": {
    "editable": true
   },
   "outputs": [],
   "source": [
    "i94_df = spark.read.parquet(\"sas_data\")"
   ]
  },
  {
   "cell_type": "code",
   "execution_count": 103,
   "metadata": {
    "editable": true
   },
   "outputs": [],
   "source": [
    "temp_df = spark.read.csv('../../data2/GlobalLandTemperaturesByCity.csv', header=True)"
   ]
  },
  {
   "cell_type": "code",
   "execution_count": 40,
   "metadata": {
    "editable": true
   },
   "outputs": [],
   "source": [
    "airport_df = spark.read.csv('airport-codes_csv.csv', header=True)"
   ]
  },
  {
   "cell_type": "code",
   "execution_count": 21,
   "metadata": {
    "editable": true
   },
   "outputs": [],
   "source": [
    "cities_df = spark.read.option(\"delimiter\", \";\").csv('us-cities-demographics.csv', header = True)"
   ]
  },
  {
   "cell_type": "markdown",
   "metadata": {
    "editable": true
   },
   "source": [
    "### Step 2: Explore and Assess the Data\n",
    "#### Explore the Data & Cleaing the data"
   ]
  },
  {
   "cell_type": "code",
   "execution_count": 108,
   "metadata": {
    "editable": true
   },
   "outputs": [
    {
     "name": "stdout",
     "output_type": "stream",
     "text": [
      "+---------+------+------+------+------+-------+-------+-------+-------+-------+------+-------+-----+--------+--------+-----+-------+-------+-------+-------+-------+--------+------+------+-------+--------------+-----+--------+-----------+\n",
      "|    cicid| i94yr|i94mon|i94cit|i94res|i94port|arrdate|i94mode|i94addr|depdate|i94bir|i94visa|count|dtadfile|visapost|occup|entdepa|entdepd|entdepu|matflag|biryear| dtaddto|gender|insnum|airline|        admnum|fltno|visatype|arrive_date|\n",
      "+---------+------+------+------+------+-------+-------+-------+-------+-------+------+-------+-----+--------+--------+-----+-------+-------+-------+-------+-------+--------+------+------+-------+--------------+-----+--------+-----------+\n",
      "|5748517.0|2016.0|   4.0| 245.0| 438.0|    LOS|20574.0|    1.0|     CA|20582.0|  40.0|    1.0|  1.0|20160430|     SYD| null|      G|      O|   null|      M| 1976.0|10292016|     F|  null|     QF|9.495387003E10|00011|      B1| 2016-04-30|\n",
      "|5748518.0|2016.0|   4.0| 245.0| 438.0|    LOS|20574.0|    1.0|     NV|20591.0|  32.0|    1.0|  1.0|20160430|     SYD| null|      G|      O|   null|      M| 1984.0|10292016|     F|  null|     VA|9.495562283E10|00007|      B1| 2016-04-30|\n",
      "|5748519.0|2016.0|   4.0| 245.0| 438.0|    LOS|20574.0|    1.0|     WA|20582.0|  29.0|    1.0|  1.0|20160430|     SYD| null|      G|      O|   null|      M| 1987.0|10292016|     M|  null|     DL|9.495640653E10|00040|      B1| 2016-04-30|\n",
      "|5748520.0|2016.0|   4.0| 245.0| 438.0|    LOS|20574.0|    1.0|     WA|20588.0|  29.0|    1.0|  1.0|20160430|     SYD| null|      G|      O|   null|      M| 1987.0|10292016|     F|  null|     DL|9.495645143E10|00040|      B1| 2016-04-30|\n",
      "|5748521.0|2016.0|   4.0| 245.0| 438.0|    LOS|20574.0|    1.0|     WA|20588.0|  28.0|    1.0|  1.0|20160430|     SYD| null|      G|      O|   null|      M| 1988.0|10292016|     M|  null|     DL|9.495638813E10|00040|      B1| 2016-04-30|\n",
      "+---------+------+------+------+------+-------+-------+-------+-------+-------+------+-------+-----+--------+--------+-----+-------+-------+-------+-------+-------+--------+------+------+-------+--------------+-----+--------+-----------+\n",
      "only showing top 5 rows\n",
      "\n"
     ]
    }
   ],
   "source": [
    "i94_df.show(5)"
   ]
  },
  {
   "cell_type": "markdown",
   "metadata": {
    "editable": true
   },
   "source": [
    "i94cit, i94port are just code. The origin data is in I94_SAS_Labels_Descriptions.SAS. <br>\n",
    "Arrdate is SAS date foramt.<br>"
   ]
  },
  {
   "cell_type": "code",
   "execution_count": 106,
   "metadata": {
    "editable": true
   },
   "outputs": [
    {
     "data": {
      "text/plain": [
       "0"
      ]
     },
     "execution_count": 106,
     "metadata": {},
     "output_type": "execute_result"
    }
   ],
   "source": [
    "i94_df.filter(i94_df.i94cit.isNull()).count()"
   ]
  },
  {
   "cell_type": "code",
   "execution_count": 80,
   "metadata": {
    "editable": true
   },
   "outputs": [
    {
     "data": {
      "text/plain": [
       "0"
      ]
     },
     "execution_count": 80,
     "metadata": {},
     "output_type": "execute_result"
    }
   ],
   "source": [
    "i94_df.filter(i94_df.arrdate.isNull()).count()"
   ]
  },
  {
   "cell_type": "code",
   "execution_count": 37,
   "metadata": {
    "editable": true
   },
   "outputs": [
    {
     "name": "stdout",
     "output_type": "stream",
     "text": [
      "+----------+------------------+-----------------------------+-----+-------+--------+---------+\n",
      "|        dt|AverageTemperature|AverageTemperatureUncertainty| City|Country|Latitude|Longitude|\n",
      "+----------+------------------+-----------------------------+-----+-------+--------+---------+\n",
      "|1743-11-01|             6.068|           1.7369999999999999|Århus|Denmark|  57.05N|   10.33E|\n",
      "|1743-12-01|              null|                         null|Århus|Denmark|  57.05N|   10.33E|\n",
      "|1744-01-01|              null|                         null|Århus|Denmark|  57.05N|   10.33E|\n",
      "|1744-02-01|              null|                         null|Århus|Denmark|  57.05N|   10.33E|\n",
      "|1744-03-01|              null|                         null|Århus|Denmark|  57.05N|   10.33E|\n",
      "+----------+------------------+-----------------------------+-----+-------+--------+---------+\n",
      "only showing top 5 rows\n",
      "\n"
     ]
    }
   ],
   "source": [
    "temp_df.show(5)"
   ]
  },
  {
   "cell_type": "code",
   "execution_count": 38,
   "metadata": {
    "editable": true
   },
   "outputs": [
    {
     "name": "stdout",
     "output_type": "stream",
     "text": [
      "+--------+\n",
      "|Latitude|\n",
      "+--------+\n",
      "|  36.17N|\n",
      "|  44.20N|\n",
      "|  57.05N|\n",
      "|   4.02S|\n",
      "|  24.92N|\n",
      "+--------+\n",
      "only showing top 5 rows\n",
      "\n"
     ]
    }
   ],
   "source": [
    "temp_df.select(\"Latitude\").distinct().show(5)"
   ]
  },
  {
   "cell_type": "markdown",
   "metadata": {
    "editable": true
   },
   "source": [
    "The data include many countries. I remove other countries without US."
   ]
  },
  {
   "cell_type": "code",
   "execution_count": 99,
   "metadata": {
    "editable": true
   },
   "outputs": [
    {
     "name": "stdout",
     "output_type": "stream",
     "text": [
      "+--------------------+\n",
      "|             Country|\n",
      "+--------------------+\n",
      "|                Chad|\n",
      "|              Russia|\n",
      "|            Paraguay|\n",
      "|               Yemen|\n",
      "|             Senegal|\n",
      "|              Sweden|\n",
      "|              Guyana|\n",
      "|               Burma|\n",
      "|         Philippines|\n",
      "|             Eritrea|\n",
      "|            Djibouti|\n",
      "|            Malaysia|\n",
      "|           Singapore|\n",
      "|              Turkey|\n",
      "|              Malawi|\n",
      "|                Iraq|\n",
      "|             Germany|\n",
      "|         Afghanistan|\n",
      "|            Cambodia|\n",
      "|              Jordan|\n",
      "|              Rwanda|\n",
      "|               Sudan|\n",
      "|              France|\n",
      "|              Greece|\n",
      "|           Sri Lanka|\n",
      "|              Taiwan|\n",
      "|             Algeria|\n",
      "|   Equatorial Guinea|\n",
      "|                Togo|\n",
      "|            Slovakia|\n",
      "|             Reunion|\n",
      "|           Argentina|\n",
      "|             Belgium|\n",
      "|              Angola|\n",
      "|             Ecuador|\n",
      "|               Qatar|\n",
      "|             Lesotho|\n",
      "|          Madagascar|\n",
      "|             Albania|\n",
      "|             Finland|\n",
      "|               Ghana|\n",
      "|           Nicaragua|\n",
      "|               Benin|\n",
      "|                Peru|\n",
      "|        Sierra Leone|\n",
      "|               China|\n",
      "|       United States|\n",
      "|               India|\n",
      "|             Bahamas|\n",
      "|             Belarus|\n",
      "|             Somalia|\n",
      "|               Chile|\n",
      "|         Puerto Rico|\n",
      "|          Tajikistan|\n",
      "|             Croatia|\n",
      "|             Burundi|\n",
      "|             Nigeria|\n",
      "|             Bolivia|\n",
      "|               Gabon|\n",
      "|               Italy|\n",
      "|            Suriname|\n",
      "|           Lithuania|\n",
      "|        Turkmenistan|\n",
      "|              Norway|\n",
      "|               Spain|\n",
      "|                Cuba|\n",
      "|          Mauritania|\n",
      "|             Denmark|\n",
      "|Central African R...|\n",
      "|               Niger|\n",
      "|          Bangladesh|\n",
      "|                Iran|\n",
      "|             Ireland|\n",
      "|               Congo|\n",
      "|            Thailand|\n",
      "|           Swaziland|\n",
      "|                Laos|\n",
      "|             Morocco|\n",
      "|              Panama|\n",
      "|           Hong Kong|\n",
      "|           Venezuela|\n",
      "|             Ukraine|\n",
      "|              Israel|\n",
      "|             Iceland|\n",
      "|                Oman|\n",
      "|         South Korea|\n",
      "|              Cyprus|\n",
      "|             Uruguay|\n",
      "|              Mexico|\n",
      "|            Zimbabwe|\n",
      "|          Montenegro|\n",
      "|             Estonia|\n",
      "|             Georgia|\n",
      "|           Indonesia|\n",
      "|       Côte D'Ivoire|\n",
      "|           Guatemala|\n",
      "|            Mongolia|\n",
      "|               Libya|\n",
      "|          Azerbaijan|\n",
      "|             Armenia|\n",
      "+--------------------+\n",
      "only showing top 100 rows\n",
      "\n"
     ]
    }
   ],
   "source": [
    "temp_df.select('Country').distinct().show(100)"
   ]
  },
  {
   "cell_type": "code",
   "execution_count": 104,
   "metadata": {
    "editable": true
   },
   "outputs": [],
   "source": [
    "temp_df = temp_df.filter(temp_df.Country == 'United States')"
   ]
  },
  {
   "cell_type": "code",
   "execution_count": 41,
   "metadata": {
    "editable": true
   },
   "outputs": [
    {
     "name": "stdout",
     "output_type": "stream",
     "text": [
      "+-----+-------------+--------------------+------------+---------+-----------+----------+------------+--------+---------+----------+--------------------+\n",
      "|ident|         type|                name|elevation_ft|continent|iso_country|iso_region|municipality|gps_code|iata_code|local_code|         coordinates|\n",
      "+-----+-------------+--------------------+------------+---------+-----------+----------+------------+--------+---------+----------+--------------------+\n",
      "|  00A|     heliport|   Total Rf Heliport|          11|       NA|         US|     US-PA|    Bensalem|     00A|     null|       00A|-74.9336013793945...|\n",
      "| 00AA|small_airport|Aero B Ranch Airport|        3435|       NA|         US|     US-KS|       Leoti|    00AA|     null|      00AA|-101.473911, 38.7...|\n",
      "| 00AK|small_airport|        Lowell Field|         450|       NA|         US|     US-AK|Anchor Point|    00AK|     null|      00AK|-151.695999146, 5...|\n",
      "| 00AL|small_airport|        Epps Airpark|         820|       NA|         US|     US-AL|     Harvest|    00AL|     null|      00AL|-86.7703018188476...|\n",
      "| 00AR|       closed|Newport Hospital ...|         237|       NA|         US|     US-AR|     Newport|    null|     null|      null| -91.254898, 35.6087|\n",
      "+-----+-------------+--------------------+------------+---------+-----------+----------+------------+--------+---------+----------+--------------------+\n",
      "only showing top 5 rows\n",
      "\n"
     ]
    }
   ],
   "source": [
    "airport_df.show(5)"
   ]
  },
  {
   "cell_type": "markdown",
   "metadata": {
    "editable": true
   },
   "source": [
    "I desinged data warehouse, and fact data is immigration data.<br>\n",
    "This data and fact data do not have and can not extract same key. So I discard this data. (Fact data just have airline. I can not guess airport.)"
   ]
  },
  {
   "cell_type": "code",
   "execution_count": 42,
   "metadata": {
    "editable": true
   },
   "outputs": [
    {
     "name": "stdout",
     "output_type": "stream",
     "text": [
      "+----------------+-------------+----------+---------------+-----------------+----------------+------------------+------------+----------------------+----------+--------------------+-----+\n",
      "|            City|        State|Median Age|Male Population|Female Population|Total Population|Number of Veterans|Foreign-born|Average Household Size|State Code|                Race|Count|\n",
      "+----------------+-------------+----------+---------------+-----------------+----------------+------------------+------------+----------------------+----------+--------------------+-----+\n",
      "|   Silver Spring|     Maryland|      33.8|          40601|            41862|           82463|              1562|       30908|                   2.6|        MD|  Hispanic or Latino|25924|\n",
      "|          Quincy|Massachusetts|      41.0|          44129|            49500|           93629|              4147|       32935|                  2.39|        MA|               White|58723|\n",
      "|          Hoover|      Alabama|      38.5|          38040|            46799|           84839|              4819|        8229|                  2.58|        AL|               Asian| 4759|\n",
      "|Rancho Cucamonga|   California|      34.5|          88127|            87105|          175232|              5821|       33878|                  3.18|        CA|Black or African-...|24437|\n",
      "|          Newark|   New Jersey|      34.6|         138040|           143873|          281913|              5829|       86253|                  2.73|        NJ|               White|76402|\n",
      "+----------------+-------------+----------+---------------+-----------------+----------------+------------------+------------+----------------------+----------+--------------------+-----+\n",
      "only showing top 5 rows\n",
      "\n"
     ]
    }
   ],
   "source": [
    "cities_df.show(5)"
   ]
  },
  {
   "cell_type": "markdown",
   "metadata": {
    "editable": true
   },
   "source": [
    "### Step 3: Define the Data Model\n",
    "#### 3.1 Conceptual Data Model\n",
    "Map out the conceptual data model and explain why you chose that model\n",
    "\n",
    "#### 3.2 Mapping Out Data Pipelines\n",
    "List the steps necessary to pipeline the data into the chosen data model"
   ]
  },
  {
   "cell_type": "markdown",
   "metadata": {
    "editable": true
   },
   "source": [
    "### Step 4: Run Pipelines to Model the Data \n",
    "#### 4.1 Create the data model\n",
    "Build the data pipelines to create the data model."
   ]
  },
  {
   "cell_type": "code",
   "execution_count": null,
   "metadata": {
    "editable": true
   },
   "outputs": [],
   "source": [
    "sas_date_to_timestamp = udf(lambda x: timedelta(days=x) + date(1960, 1, 1), DateType())\n",
    "i94_df = i94_df.withColumn('arrive_date', sas_date_to_timestamp(col('arrdate')))"
   ]
  },
  {
   "cell_type": "code",
   "execution_count": 141,
   "metadata": {
    "editable": true
   },
   "outputs": [],
   "source": [
    "with open('I94_SAS_Labels_Descriptions.SAS') as f:\n",
    "    descriptions = f.readlines()\n",
    "    \n",
    "def extract_code(codes):\n",
    "    temp = []\n",
    "    for code in codes:\n",
    "        code = code.strip().replace(\"'\", '').split('=')\n",
    "        code = [c.strip() for c in code]\n",
    "        temp.append(code)\n",
    "    return pd.DataFrame(temp)\n",
    "\n",
    "cits = descriptions[10:298]\n",
    "cit_pd_df = extract_code(cits)\n",
    "cit_pd_df.columns = ['i94cit', 'cit']\n",
    "# print(cit_pd_df['i94cit'])\n",
    "cit_pd_df['i94cit'] = cit_pd_df['i94cit'].astype('int')\n",
    "schema = StructType([StructField('i94cit', IntegerType(), True),\n",
    "                     StructField('cit', StringType(), True)])\n",
    "cit_df = spark.createDataFrame(cit_pd_df,schema=schema)\n",
    "\n",
    "ports = descriptions[303:962]\n",
    "port_pd_df = extract_code(ports)\n",
    "port_pd_df.columns = ['i94port', 'port']\n",
    "\n",
    "port_pd_df['port_city'] = port_pd_df.port.str.split(',').str[0]\n",
    "port_pd_df['port_state'] = port_pd_df.port.str.split(',').str[1]\n",
    "port_pd_df = port_pd_df.drop(columns=['port'])\n",
    "schema = StructType([StructField('i94port', StringType(), True),\n",
    "                     StructField('port_city', StringType(), True),\n",
    "                     StructField('port_state', StringType(), True)])\n",
    "port_df = spark.createDataFrame(port_pd_df,schema=schema)\n",
    "\n",
    "addrs = descriptions[982:1036]\n",
    "addr_pd_df = extract_code(addrs)\n",
    "addr_pd_df.columns = ['i94addr', 'addr']\n",
    "\n",
    "schema = StructType([StructField('i94addr', StringType(), True),\n",
    "                     StructField('addr', StringType(), True)])\n",
    "addr_df = spark.createDataFrame(addr_pd_df,schema=schema)"
   ]
  },
  {
   "cell_type": "code",
   "execution_count": 144,
   "metadata": {
    "editable": true
   },
   "outputs": [
    {
     "name": "stdout",
     "output_type": "stream",
     "text": [
      "+---------+-----------+-------+-------+------+---------------+--------+------+-----+----------+----------+----------+----+----+\n",
      "|       id|arrive_date|biryear|   addr|gender|         admnum|visatype|  year|month|       cit| port_city|port_state|mode|visa|\n",
      "+---------+-----------+-------+-------+------+---------------+--------+------+-----+----------+----------+----------+----+----+\n",
      "|1341668.0| 2016-04-07| 2000.0|ARIZONA|     M| 9.296699883E10|      B2|2016.0|  4.0|   ECUADOR|FORT MYERS|        FL| 1.0| 2.0|\n",
      "|5439767.0| 2016-04-29| 1967.0|ARIZONA|     M|5.9500084533E10|      WT|2016.0|  4.0|    NORWAY|FORT MYERS|        FL| 1.0| 2.0|\n",
      "|3386206.0| 2016-04-18| 1962.0|ARIZONA|     M|5.6359932933E10|      WB|2016.0|  4.0| AUSTRALIA|FORT MYERS|        FL| 1.0| 1.0|\n",
      "|3387636.0| 2016-04-18| 1949.0|ARIZONA|     F|5.6384782833E10|      WT|2016.0|  4.0| AUSTRALIA|FORT MYERS|        FL| 1.0| 2.0|\n",
      "| 815532.0| 2016-04-05| 1943.0|ARIZONA|     F|5.5688696333E10|      WT|2016.0|  4.0|   DENMARK|FORT MYERS|        FL| 1.0| 2.0|\n",
      "| 815697.0| 2016-04-05| 1941.0|ARIZONA|     F|5.5689925633E10|      WT|2016.0|  4.0|   DENMARK|FORT MYERS|        FL| 1.0| 2.0|\n",
      "|  92626.0| 2016-04-01| 1962.0|ARIZONA|     M| 9.244843683E10|      B2|2016.0|  4.0|   BERMUDA|FORT MYERS|        FL| 1.0| 2.0|\n",
      "|3381198.0| 2016-04-18| 1979.0|ARIZONA|     M|5.6391232433E10|      WB|2016.0|  4.0|    TAIWAN|FORT MYERS|        FL| 1.0| 1.0|\n",
      "|3381854.0| 2016-04-18| 1993.0|ARIZONA|     F| 9.386652833E10|      B2|2016.0|  4.0|    TAIWAN|FORT MYERS|        FL| 1.0| 2.0|\n",
      "| 803901.0| 2016-04-04| 1961.0|ARIZONA|     M| 9.271846753E10|      B1|2016.0|  4.0|    BRAZIL|FORT MYERS|        FL| 1.0| 1.0|\n",
      "|2920764.0| 2016-04-16| 1960.0|ARIZONA|     M|5.6257666833E10|      WT|2016.0|  4.0| SINGAPORE|FORT MYERS|        FL| 1.0| 2.0|\n",
      "|2666996.0| 2016-04-15| 1968.0|ARIZONA|     M|5.6228289433E10|      WB|2016.0|  4.0|   BELGIUM|FORT MYERS|        FL| 1.0| 1.0|\n",
      "|4904008.0| 2016-04-26| 1992.0|ARIZONA|  null| 9.459127343E10|      B2|2016.0|  4.0|CHINA, PRC|FORT MYERS|        FL| 1.0| 2.0|\n",
      "|1036604.0| 2016-04-06| 1975.0|ARIZONA|     F| 9.289254253E10|      B1|2016.0|  4.0|CHINA, PRC|FORT MYERS|        FL| 1.0| 1.0|\n",
      "|1036605.0| 2016-04-06| 1981.0|ARIZONA|     M| 9.287536143E10|      B2|2016.0|  4.0|CHINA, PRC|FORT MYERS|        FL| 1.0| 2.0|\n",
      "|3163140.0| 2016-04-17| 1971.0|ARIZONA|     F| 9.378976493E10|      B1|2016.0|  4.0|CHINA, PRC|FORT MYERS|        FL| 1.0| 1.0|\n",
      "|3163141.0| 2016-04-17| 1982.0|ARIZONA|     M| 9.378809473E10|      B1|2016.0|  4.0|CHINA, PRC|FORT MYERS|        FL| 1.0| 1.0|\n",
      "|3163142.0| 2016-04-17| 1983.0|ARIZONA|     F| 9.378751803E10|      B1|2016.0|  4.0|CHINA, PRC|FORT MYERS|        FL| 1.0| 1.0|\n",
      "|3163143.0| 2016-04-17| 1973.0|ARIZONA|     F| 9.378805163E10|      B1|2016.0|  4.0|CHINA, PRC|FORT MYERS|        FL| 1.0| 1.0|\n",
      "|2736793.0| 2016-04-15| 1944.0|ARIZONA|     M| 9.359353303E10|      B2|2016.0|  4.0|CHINA, PRC|FORT MYERS|        FL| 1.0| 2.0|\n",
      "+---------+-----------+-------+-------+------+---------------+--------+------+-----+----------+----------+----------+----+----+\n",
      "only showing top 20 rows\n",
      "\n"
     ]
    }
   ],
   "source": [
    "i94_df.join(cit_df, 'i94cit') \\\n",
    "    .join(port_df, 'i94port') \\\n",
    "    .join(addr_df, 'i94addr') \\\n",
    "    .select(col('cicid').alias('id'),\n",
    "            col('arrive_date'),\n",
    "            col('biryear'),\n",
    "            col('addr'),\n",
    "            col('gender'),\n",
    "            col('admnum'),\n",
    "            col('visatype'),\n",
    "            col('i94yr').alias('year'),\n",
    "            col('i94mon').alias('month'),\n",
    "            col('cit'),\n",
    "            col('port_city'),\n",
    "            col('port_state'),\n",
    "            col('i94mode').alias('mode'),\n",
    "            col('i94visa').alias('visa')).show()"
   ]
  },
  {
   "cell_type": "code",
   "execution_count": null,
   "metadata": {
    "editable": true
   },
   "outputs": [],
   "source": []
  },
  {
   "cell_type": "markdown",
   "metadata": {
    "editable": true
   },
   "source": [
    "#### 4.2 Data Quality Checks\n",
    "Explain the data quality checks you'll perform to ensure the pipeline ran as expected. These could include:\n",
    " * Integrity constraints on the relational database (e.g., unique key, data type, etc.)\n",
    " * Unit tests for the scripts to ensure they are doing the right thing\n",
    " * Source/Count checks to ensure completeness\n",
    " \n",
    "Run Quality Checks"
   ]
  },
  {
   "cell_type": "code",
   "execution_count": null,
   "metadata": {
    "editable": true
   },
   "outputs": [],
   "source": [
    "# Perform quality checks here"
   ]
  },
  {
   "cell_type": "markdown",
   "metadata": {
    "editable": true
   },
   "source": [
    "#### 4.3 Data dictionary \n",
    "Create a data dictionary for your data model. For each field, provide a brief description of what the data is and where it came from. You can include the data dictionary in the notebook or in a separate file."
   ]
  },
  {
   "cell_type": "markdown",
   "metadata": {
    "editable": true
   },
   "source": [
    "#### Step 5: Complete Project Write Up\n",
    "* Clearly state the rationale for the choice of tools and technologies for the project.\n",
    "* Propose how often the data should be updated and why.\n",
    "* Write a description of how you would approach the problem differently under the following scenarios:\n",
    " * The data was increased by 100x.\n",
    " * The data populates a dashboard that must be updated on a daily basis by 7am every day.\n",
    " * The database needed to be accessed by 100+ people."
   ]
  },
  {
   "cell_type": "code",
   "execution_count": null,
   "metadata": {
    "editable": true
   },
   "outputs": [],
   "source": []
  },
  {
   "cell_type": "code",
   "execution_count": null,
   "metadata": {
    "editable": true
   },
   "outputs": [],
   "source": []
  },
  {
   "cell_type": "code",
   "execution_count": null,
   "metadata": {
    "editable": true
   },
   "outputs": [],
   "source": []
  },
  {
   "cell_type": "code",
   "execution_count": null,
   "metadata": {
    "editable": true
   },
   "outputs": [],
   "source": []
  },
  {
   "cell_type": "code",
   "execution_count": null,
   "metadata": {
    "editable": true
   },
   "outputs": [],
   "source": []
  },
  {
   "cell_type": "code",
   "execution_count": null,
   "metadata": {
    "editable": true
   },
   "outputs": [],
   "source": []
  }
 ],
 "metadata": {
  "kernelspec": {
   "display_name": "Python 3",
   "language": "python",
   "name": "python3"
  },
  "language_info": {
   "codemirror_mode": {
    "name": "ipython",
    "version": 3
   },
   "file_extension": ".py",
   "mimetype": "text/x-python",
   "name": "python",
   "nbconvert_exporter": "python",
   "pygments_lexer": "ipython3",
   "version": "3.6.3"
  }
 },
 "nbformat": 4,
 "nbformat_minor": 4
}
